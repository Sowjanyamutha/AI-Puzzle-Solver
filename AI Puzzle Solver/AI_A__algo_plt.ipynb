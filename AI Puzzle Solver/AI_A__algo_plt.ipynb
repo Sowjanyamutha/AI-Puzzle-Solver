{
  "nbformat": 4,
  "nbformat_minor": 0,
  "metadata": {
    "colab": {
      "name": "AI_A*_algo_plt",
      "provenance": [],
      "collapsed_sections": []
    },
    "kernelspec": {
      "name": "python3",
      "display_name": "Python 3"
    },
    "language_info": {
      "name": "python"
    }
  },
  "cells": [
    {
      "cell_type": "code",
      "execution_count": null,
      "metadata": {
        "id": "nbUI8Zol_8hp"
      },
      "outputs": [],
      "source": [
        "import numpy as np\n",
        "import heapq \n",
        "import matplotlib.pyplot as plt"
      ]
    },
    {
      "cell_type": "code",
      "source": [
        "#heuristics euclidean distance\n",
        "\n",
        "def heuristics(a,b):\n",
        "  return np.sqrt((b[0]-a[0])**2 + (b[1]-a[1])**2)"
      ],
      "metadata": {
        "id": "N9nozGZoBIhJ"
      },
      "execution_count": null,
      "outputs": []
    },
    {
      "cell_type": "code",
      "source": [
        "def astar(array,start,end):\n",
        "  # to traverse in all 8 directions\n",
        "  directions=[(0,1),(0,-1),(1,0),(-1,0),(1,1),(1,-1),(-1,1),(-1,-1)]\n",
        "  closed_list=set()\n",
        "  came_from={} #to store previous nodes of path\n",
        "  gscore={start:0}                        # dictionary key : value pairs\n",
        "  fscore={start:heuristics(start,goal)}  # a dictionary \n",
        "\n",
        "  openlist=[] # FRONTIER\n",
        "  heapq.heappush(openlist,(fscore[start],start)) #priority queue, \n",
        "  #in frontier priority by fscore and followed by identir of that fscore\n",
        "\n",
        "  while openlist:\n",
        "    current=heapq.heappop(openlist)[1] #fscore wise at index 1 (x,y) coordinate\n",
        "\n",
        "    if current==goal:\n",
        "      path_data=[]  # contain entire path \n",
        "      while current in came_from:\n",
        "        path_data.append(current)\n",
        "        current=came_from[current]\n",
        "      return path_data\n",
        "\n",
        "    closed_list.add(current)\n",
        "    \n",
        "    for i,j in directions:\n",
        "      direction= current[0] +i , current[1]+j\n",
        "      temp_gscore= gscore[current]+heuristics(current,direction)\n",
        "      if 0<= direction[0]<array.shape[0]:  #corner case to consider boundary row-wise\n",
        "        if 0<=direction[1]<array.shape[1]: # #corner case to consider boundary column-wise\n",
        "          if array[direction[0]][direction[1]] ==1 : #obstacle\n",
        "            continue\n",
        "\n",
        "        else:\n",
        "            #column wall\n",
        "          continue\n",
        "      else:\n",
        "        # row wall\n",
        "        continue\n",
        "      if direction in closed_list and temp_gscore >= gscore.get(direction,0):\n",
        "        continue\n",
        "      \n",
        "      if temp_gscore <gscore.get(direction,0) or direction not in [i[1] for i in openlist]:\n",
        "        came_from[direction]=current\n",
        "        gscore[direction]=temp_gscore\n",
        "        fscore[direction]= temp_gscore+heuristics(direction,goal)\n",
        "        heapq.heappush(openlist,(fscore[direction],direction))\n",
        "  return False #incase no path found\n"
      ],
      "metadata": {
        "id": "eQiAOf57Bwt2"
      },
      "execution_count": null,
      "outputs": []
    },
    {
      "cell_type": "code",
      "source": [
        "import numpy as np\n",
        "new_array = np.random.randint(2, size=(50,50))\n",
        "print(\"Random set of rows from 2D array array:\")\n",
        "print(new_array)\n",
        "new_array[0][0]=0\n",
        "new_array[24][36]=0"
      ],
      "metadata": {
        "id": "rznxr5V4dnBB",
        "colab": {
          "base_uri": "https://localhost:8080/"
        },
        "outputId": "16a724af-0ac1-4d01-98bf-9f54e31dbd54"
      },
      "execution_count": 4,
      "outputs": [
        {
          "output_type": "stream",
          "name": "stdout",
          "text": [
            "Random set of rows from 2D array array:\n",
            "[[1 0 1 ... 1 1 1]\n",
            " [1 0 1 ... 0 1 1]\n",
            " [1 1 0 ... 0 1 0]\n",
            " ...\n",
            " [0 0 0 ... 0 0 0]\n",
            " [1 1 1 ... 0 0 1]\n",
            " [1 1 1 ... 0 0 1]]\n"
          ]
        }
      ]
    },
    {
      "cell_type": "code",
      "source": [
        "start=(0,0)\n",
        "goal=(40,36)"
      ],
      "metadata": {
        "id": "UhKe1gTPw0fz"
      },
      "execution_count": null,
      "outputs": []
    },
    {
      "cell_type": "code",
      "source": [
        "route=astar(new_array,start,goal)\n",
        "#print(route)\n",
        "route= route+[start]\n",
        "\n",
        "# reverse route to get path from start\n",
        "route=route[::-1] #step from last to front hence, reverse\n",
        "print(route)"
      ],
      "metadata": {
        "colab": {
          "base_uri": "https://localhost:8080/"
        },
        "id": "E007Quo5w4co",
        "outputId": "dd234c2c-1241-4daa-d650-6f3a372791c6"
      },
      "execution_count": null,
      "outputs": [
        {
          "output_type": "stream",
          "name": "stdout",
          "text": [
            "[(0, 0), (0, 1), (1, 2), (2, 1), (3, 2), (4, 2), (5, 2), (6, 1), (7, 2), (8, 3), (9, 3), (10, 2), (11, 3), (11, 4), (11, 5), (11, 6), (12, 7), (13, 8), (13, 9), (14, 10), (15, 11), (16, 12), (16, 13), (16, 14), (17, 15), (17, 16), (18, 17), (19, 18), (20, 19), (21, 20), (22, 20), (23, 20), (24, 21), (25, 22), (26, 23), (27, 23), (28, 24), (28, 25), (29, 26), (28, 27), (29, 28), (30, 29), (31, 30), (32, 30), (33, 30), (34, 31), (35, 32), (36, 33), (37, 34), (38, 35), (39, 35), (40, 36)]\n"
          ]
        }
      ]
    },
    {
      "cell_type": "code",
      "source": [
        "x=[]\n",
        "y=[]\n",
        "\n",
        "for i in range (0,len(route)):\n",
        "  x_c=route[i][0]\n",
        "  y_c=route[i][1]\n",
        "  x.append(x_c)\n",
        "  y.append(y_c)"
      ],
      "metadata": {
        "id": "fw7QBkX3w0ZX"
      },
      "execution_count": null,
      "outputs": []
    },
    {
      "cell_type": "code",
      "source": [
        "fig,ax=plt.subplots(figsize=(10,10))\n",
        "\n",
        "ax.imshow(new_array,cmap=\"Blues\")\n",
        "ax.scatter(start[1],start[0], marker=\"^\", color=\"red\",s=200)\n",
        "ax.scatter(goal[1],goal[0],marker=\"^\", color=\"red\", s=200)\n",
        "plt.show()"
      ],
      "metadata": {
        "colab": {
          "base_uri": "https://localhost:8080/",
          "height": 592
        },
        "id": "v5zCgeIOw1H_",
        "outputId": "fad2d450-94f9-4a39-8f4d-903056119e17"
      },
      "execution_count": null,
      "outputs": [
        {
          "output_type": "display_data",
          "data": {
            "image/png": "[encoded data removed]",
            "text/plain": [
              "<Figure size 720x720 with 1 Axes>"
            ]
          },
          "metadata": {
            "needs_background": "light"
          }
        }
      ]
    },
    {
      "cell_type": "code",
      "source": [
        "fig,ax=plt.subplots(figsize=(10,10))\n",
        "ax.imshow(new_array,cmap=\"Blues\")\n",
        "ax.scatter(start[1],start[0], marker=\"^\", color=\"red\",s=200)\n",
        "ax.scatter(goal[1],goal[0],marker=\"^\", color=\"red\", s=200)\n",
        "ax.plot(y,x,color=\"red\",marker=\"s\",ms='10')\n",
        "\n",
        "plt.show()"
      ],
      "metadata": {
        "colab": {
          "base_uri": "https://localhost:8080/",
          "height": 592
        },
        "id": "gfooyaEdw1Ku",
        "outputId": "57deb2fa-90b1-47e8-a50a-87badb46f87e"
      },
      "execution_count": null,
      "outputs": [
        {
          "output_type": "display_data",
          "data": {
            "image/png": "[encoded data removed]",
            "text/plain": [
              "<Figure size 720x720 with 1 Axes>"
            ]
          },
          "metadata": {
            "needs_background": "light"
          }
        }
      ]
    }
  ]
}